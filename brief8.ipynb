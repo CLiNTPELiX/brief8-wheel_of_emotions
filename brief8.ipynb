{
 "cells": [
  {
   "cell_type": "markdown",
   "metadata": {},
   "source": [
    "# La roue des émotions\n",
    "\n",
    "Construit d’après les travaux du psychologue américain Robert Plutchik, la roue des émotions est un modèle des émotions humaines et peut facilement servir à définir des personnages, ainsi que leur évolution dans une trame narrative.\n",
    "\n",
    "Depuis quelques années, les dispositifs de communication médiatisée par ordinateur (CMO) sont massivement utilisés, aussi bien dans les activités professionnelles que personnelles. Ces dispositifs permettent à des participants distants physiquement de communiquer. La plupart implique une communication écrite médiatisée par ordinateur (CEMO) : forums de discussion, courrier électronique, messagerie instantanée. Les participants ne s’entendent pas et ne se voient pas mais peuvent communiquer par l’envoi de messages écrits, qui combinent, généralement, certaines caractéristiques des registres écrit et oral (Marcoccia, 2000a ; Marcoccia, Gauducheau, 2007 ; Riva, 2001).\n",
    "\n",
    "Imaginez que vous souhaitez savoir ce qui se passe derrière votre écran ordinateur, qui sont vos contacts les plus actifs et quelle est leur personnalité (pas banal comme question !!). Vous allez alors vous lancer dans l’analyse de leur narration et tenter d’extraire quelle émotion se dégage de chacune des phrases.\n",
    "\n",
    "Chez Simplon nous utilisons tous les jours des outils de discussion textuels et nous construisons nos relations sociales et professionnelles autour de ces dispositifs. Pour entretenir des rapports sociaux stables, sereins, de confiance et efficaces, au travers des outils de communication écrites, lorsqu'il n'est pas possible d'avoir la visio (avec caméra), il est nécessaire de détecter des éléments \"clés\" dans les channels de discussions / mails qui nous permettront de déceler de la colère, de la frustration, de la tristesse ou encore de la joie de la part d'un collègue ou d'un amis pour adapter nos relations sociales.\n",
    "En tant qu'expert en data science, nous allons vous demander de développer un modèle de machine learning permettant de classer les phrases suivant l'émotion principale qui en ressort.\n",
    "\n",
    "Pour des questions d’ordre privé, nous ne vous demanderons pas de nous communiquer les conversations provenant de votre réseau social favori ou de vos emails mais nous allons plutôt vous proposer deux jeux de données contenant des phrases, ces fichiers ayant déjà été annoté.\n",
    "\n",
    "Vous devrez proposer plusieurs modèles de classification des émotions et proposer une analyse qualitative et quantitative de ces modèles en fonction de critères d'évaluation. Vous pourrez notamment vous appuyer sur les outils de reporting des librairies déjà étudiées. Vous devrez investiguer aux travers de librairies d'apprentissage automatique standards et de traitement automatique du langage naturel comment obtenir les meilleurs performance de prédiction possible en prenant en compte l'aspect multi-class du problème et en explorant l'impact sur la prédiction de divers prétraitement tel que la suppression des **stop-words**, la **lemmatisation** et l'utilisation de **n-grams**, et différente approche pour la vectorisation.\n",
    "\n",
    "Vous devrez travailler dans **un premier temps** avec le jeu de données issue de [Kaggle](https://www.kaggle.com/ishantjuyal/emotions-in-text) pour réaliser vos apprentissage et l'évaluation de vos modèles.\n",
    "\n",
    "Dans l'objectif d'enrichir notre prédictions nous souhaitons augmenter notre jeux de donneés.\n",
    "Vous devrez donc travailler dans un **deuxième temps** avec le jeux de données fournie, issue de [data.world](https://data.world/crowdflower/sentiment-analysis-in-text) afin de  :\n",
    "1. comparer d'une part si les résultats de classification sur votre premier jeux de données sont similaire avec le second. Commentez.\n",
    "2. Combiner les deux jeux données pour tenter d'améliorer vos résultats de prédiction.\n",
    "3. Prédire les nouvelles émotions présente dans ce jeux de données sur les message du premier, et observer si les résultats sont pertinent.\n",
    "\n",
    "Vous devrez ensuite présenter vos résultats sous la forme d'un dashboard muli-pages Dash.\n",
    "La première page du Dashboard sera dédiée à l'analyse et au traitement des données. Vous pourrez par exemple présenter les données \"brut\" sous la forme d'un tableau puis les données pré-traitées dans le même tableau avec un bouton ou menu déroulant permettant de passer d'un type de données à un autre (n'afficher qu'un échantillon des résultats, on dans une fenetre \"scrollable\"). Sur cette première page de dashboard seront accessibles vos graphiques ayant trait à votre première analyse de données (histogramme, bubble chart, scatterplot etc), notamment\n",
    "* l'histogramme représentant la fréquence d’apparition des mots (commentez)\n",
    "* l'histogramme des émotions (commentez)\n",
    "\n",
    "Une deuxième page du Dashboard sera dédiée aux résultats issues des classifications . Il vous est demandé de comparer les résultats d'au moins 5 classifiers qu présenterai dans un tableau permettant de visualiser vos mesures. Sur cette page de dashboard pourra se trouver par exemple, des courbes de rappel de précision (permette de tracer la précision et le rappel pour différents seuils de probabilité), un rapport de classification (un rapport de classification visuel qui affiche la precision, le recall, le f1-score, support, ou encore une matrice de confusion ou encore une graphique permettant de visualiser les mots les plus représentatif associé à chaque émotions.\n",
    "\n",
    " Héberger le dashboard sur le cloud de visualisation de données Héroku (https://www.heroku.com/)\n",
    "\n",
    "Vos travaux devront être “poussés” sur Github au plus tard le Jeudi 17 Décembre à 17h30 (le lien sera accessible via simplonline). Les rendus tardifs ne seront pas pris en compte et les compétences ne seront donc pas validées !\n",
    "\n",
    "**BONUS**\n",
    "\n",
    "Créer une application client/serveur permettant à un utilisateur d'envoyer du texte via un champs de recherche (ou un fichier sur le disque du client) et de lui renvoyer\n",
    "1. l'émotion du texte envoyé.\n",
    "2. (bonus du bonus) la roue des émotions du document (exemple: quelle proportion de chacune des émotions contient le document ?)\n",
    "\n",
    "\n",
    "## Livrables\n",
    "\n",
    "* notebook résumant votre travaille\n",
    "* ressource heroku\n",
    "* (bonus) votre application client/serveur\n",
    "\n",
    "## Modalité pédagogique\n",
    "\n",
    "Travaille en groupe de 5/6 + roles  \n",
    "durée: 7 jours\n",
    "\n",
    "\n",
    "## ressources\n",
    "\n",
    "* https://www.actuia.com/contribution/victorbigand/tutoriel-tal-pour-les-debutants-classification-de-texte/\n",
    "* https://bbengfort.github.io/tutorials/2016/05/19/text-classification-nltk-sckit-learn.html\n",
    "* https://medium.com/neuronio/from-sentiment-analysis-to-emotion-recognition-a-nlp-story-bcc9d6ff61ae\n",
    "* https://realpython.com/sentiment-analysis-python/#how-classification-works\n"
   ]
  },
  {
   "cell_type": "code",
   "execution_count": 2,
   "metadata": {},
   "outputs": [],
   "source": [
    "from time import time\n",
    "from collections import defaultdict\n",
    "\n",
    "import numpy as np\n",
    "import pandas as pd\n",
    "import matplotlib.pyplot as plt\n",
    "%matplotlib inline\n",
    "\n",
    "from sklearn.feature_extraction.text import CountVectorizer, TfidfVectorizer, TfidfTransformer\n",
    "from sklearn.metrics import f1_score\n",
    "from sklearn.model_selection import ShuffleSplit\n",
    "from sklearn.pipeline import Pipeline, FeatureUnion\n",
    "from sklearn.linear_model import SGDClassifier, LogisticRegression, LogisticRegressionCV\n",
    "from sklearn.svm import SVC, LinearSVC\n",
    "from sklearn.naive_bayes import MultinomialNB, CategoricalNB, ComplementNB, BernoulliNB\n",
    "from sklearn.decomposition import FastICA, KernelPCA, TruncatedSVD, SparsePCA, NMF, FactorAnalysis, LatentDirichletAllocation\n",
    "\n",
    "import seaborn as sns\n",
    "import matplotlib\n",
    "import matplotlib.pyplot as plt\n",
    "import seaborn as sns\n",
    "\n",
    "import nltk\n",
    "from nltk.corpus import stopwords\n",
    "from nltk.corpus import wordnet as wn\n",
    "from nltk import wordpunct_tokenize\n",
    "from nltk import WordNetLemmatizer\n",
    "from nltk import sent_tokenize\n",
    "from nltk import pos_tag\n",
    "from nltk import word_tokenize\n",
    "from nltk.stem import PorterStemmer\n",
    "from nltk.stem import LancasterStemmer\n",
    "from nltk.stem.snowball import SnowballStemmer\n",
    "\n",
    "# GLOBAL VARIBLES\n",
    "df = pd.read_csv(\"datasets/Emotion_final.csv\")\n",
    "df2 = pd.read_csv(\"datasets/text_emotion.csv\")\n",
    "#nltk.download()\n",
    "#stopwords = nltk.corpus.stopwords.words(\"english\")"
   ]
  },
  {
   "cell_type": "code",
   "execution_count": 3,
   "metadata": {},
   "outputs": [
    {
     "name": "stdout",
     "output_type": "stream",
     "text": [
      "----------------------------\n",
      "First lines of the dataframe\n",
      "----------------------------\n"
     ]
    },
    {
     "data": {
      "text/html": [
       "<div>\n",
       "<style scoped>\n",
       "    .dataframe tbody tr th:only-of-type {\n",
       "        vertical-align: middle;\n",
       "    }\n",
       "\n",
       "    .dataframe tbody tr th {\n",
       "        vertical-align: top;\n",
       "    }\n",
       "\n",
       "    .dataframe thead th {\n",
       "        text-align: right;\n",
       "    }\n",
       "</style>\n",
       "<table border=\"1\" class=\"dataframe\">\n",
       "  <thead>\n",
       "    <tr style=\"text-align: right;\">\n",
       "      <th></th>\n",
       "      <th>Text</th>\n",
       "      <th>Emotion</th>\n",
       "    </tr>\n",
       "  </thead>\n",
       "  <tbody>\n",
       "    <tr>\n",
       "      <th>0</th>\n",
       "      <td>i didnt feel humiliated</td>\n",
       "      <td>sadness</td>\n",
       "    </tr>\n",
       "    <tr>\n",
       "      <th>1</th>\n",
       "      <td>i can go from feeling so hopeless to so damned...</td>\n",
       "      <td>sadness</td>\n",
       "    </tr>\n",
       "    <tr>\n",
       "      <th>2</th>\n",
       "      <td>im grabbing a minute to post i feel greedy wrong</td>\n",
       "      <td>anger</td>\n",
       "    </tr>\n",
       "    <tr>\n",
       "      <th>3</th>\n",
       "      <td>i am ever feeling nostalgic about the fireplac...</td>\n",
       "      <td>love</td>\n",
       "    </tr>\n",
       "    <tr>\n",
       "      <th>4</th>\n",
       "      <td>i am feeling grouchy</td>\n",
       "      <td>anger</td>\n",
       "    </tr>\n",
       "  </tbody>\n",
       "</table>\n",
       "</div>"
      ],
      "text/plain": [
       "                                                Text  Emotion\n",
       "0                            i didnt feel humiliated  sadness\n",
       "1  i can go from feeling so hopeless to so damned...  sadness\n",
       "2   im grabbing a minute to post i feel greedy wrong    anger\n",
       "3  i am ever feeling nostalgic about the fireplac...     love\n",
       "4                               i am feeling grouchy    anger"
      ]
     },
     "execution_count": 3,
     "metadata": {},
     "output_type": "execute_result"
    }
   ],
   "source": [
    "print(\"----------------------------\")\n",
    "print(\"First lines of the dataframe\")\n",
    "print(\"----------------------------\")\n",
    "df.head()"
   ]
  },
  {
   "cell_type": "code",
   "execution_count": 7,
   "metadata": {},
   "outputs": [
    {
     "name": "stdout",
     "output_type": "stream",
     "text": [
      "Dimension : (21459, 2) \n",
      "-----------\n",
      "\n",
      "Datas format :\n",
      "--------------\n",
      " Text       object\n",
      "Emotion    object\n",
      "dtype: object\n",
      "\n",
      "# of empty cells :\n",
      "------------------\n",
      " Text       0\n",
      "Emotion    0\n",
      "dtype: int64\n",
      "\n",
      "Values of the emotion column :\n",
      "------------------------------\n",
      " ['sadness' 'anger' 'love' 'surprise' 'fear' 'happy']\n",
      "\n",
      "Emotion's word frequency in the df :\n",
      "------------------------------------\n",
      " Emotion\n",
      "surprise     879\n",
      "love        1641\n",
      "fear        2652\n",
      "anger       2993\n",
      "sadness     6265\n",
      "happy       7029\n",
      "dtype: int64\n"
     ]
    },
    {
     "data": {
      "text/plain": [
       "<bound method Series.keys of Emotion\n",
       "surprise     879\n",
       "love        1641\n",
       "fear        2652\n",
       "anger       2993\n",
       "sadness     6265\n",
       "happy       7029\n",
       "dtype: int64>"
      ]
     },
     "execution_count": 7,
     "metadata": {},
     "output_type": "execute_result"
    }
   ],
   "source": [
    "print(\"Dimension :\", df.shape, \"\\n-----------\")\n",
    "print(\"\\nDatas format :\\n--------------\\n\", df.dtypes)\n",
    "print(\"\\n# of empty cells :\\n------------------\\n\", df.isnull().sum())\n",
    "print(\"\\nValues of the emotion column :\\n------------------------------\\n\", df.Emotion.unique())\n",
    "\n",
    "df_author = df.groupby(['Emotion']).size().sort_values()\n",
    "print(\"\\nEmotion's word frequency in the df :\\n------------------------------------\\n\", df_author)"
   ]
  },
  {
   "cell_type": "code",
   "execution_count": 9,
   "metadata": {},
   "outputs": [],
   "source": [
    "targets = df[\"Emotion\"]\n",
    "corpus = df[\"Text\"]"
   ]
  },
  {
   "cell_type": "code",
   "execution_count": 10,
   "metadata": {},
   "outputs": [
    {
     "name": "stdout",
     "output_type": "stream",
     "text": [
      "Vocabulary size : 19070\n",
      "-----------------\n",
      "\n",
      "Tracé de la distribution de mots du premier jeu de données (Kaggle) :\n",
      "---------------------------------------------------------------------\n"
     ]
    },
    {
     "data": {
      "image/png": "[encoded data removed]",
      "text/plain": [
       "<Figure size 1440x576 with 1 Axes>"
      ]
     },
     "metadata": {
      "needs_background": "light"
     },
     "output_type": "display_data"
    }
   ],
   "source": [
    "# Vobabulary analysis\n",
    "stopwords = nltk.corpus.stopwords.words('english')\n",
    "vec = CountVectorizer(stop_words=stopwords)\n",
    "X = vec.fit_transform(corpus)\n",
    "words = vec.get_feature_names()\n",
    "\n",
    "print(\"Vocabulary size : %d\\n-----------------\\n\" % len(words) )\n",
    "print(\"Tracé de la distribution de mots du premier jeu de données (Kaggle) :\\n---------------------------------------------------------------------\")\n",
    "\n",
    "wsum = np.array(X.sum(0))[0]\n",
    "ix = wsum.argsort()[::-1]\n",
    "wrank = wsum[ix] \n",
    "labels = [words[i] for i in ix]\n",
    "\n",
    "def subsample(x, step=15000):\n",
    "    return np.hstack((x[:30], x[10::step]))\n",
    "\n",
    "\n",
    "plt.figure(figsize=(20,8))\n",
    "freq = subsample(wrank)\n",
    "r = np.arange(len(freq))\n",
    "plt.bar(r, freq, width=0.7)\n",
    "plt.xticks(r, subsample(labels), rotation=55)\n",
    "plt.xlabel('Word rank')\n",
    "plt.ylabel('Word freq')\n",
    "plt.title(\"Words ordered by rank\");"
   ]
  },
  {
   "cell_type": "code",
   "execution_count": 185,
   "metadata": {},
   "outputs": [],
   "source": [
    "pipe0 = Pipeline([\n",
    "    ('vect', CountVectorizer()),\n",
    "    ('sgd', SGDClassifier()),\n",
    "])\n",
    "pipe1 = Pipeline([\n",
    "    ('vect', CountVectorizer()),\n",
    "    ('svm', SVC(kernel='linear')),\n",
    "])\n",
    "pipe2 = Pipeline([\n",
    "    ('vect', CountVectorizer()),\n",
    "    ('tfidf', TfidfTransformer()),\n",
    "    ('sgd', SGDClassifier(max_iter=5000)),\n",
    "])\n",
    "pipe21 = Pipeline([\n",
    "    ('vect', CountVectorizer()),\n",
    "    ('sgd', SGDClassifier()),\n",
    "])\n",
    "pipe3 = Pipeline([\n",
    "    ('vect', CountVectorizer()),\n",
    "    ('tfidf', TfidfTransformer()),\n",
    "    ('svl', LinearSVC(max_iter=5000)),\n",
    "])\n",
    "pipe30 = Pipeline([\n",
    "    ('feat', FeatureUnion([\n",
    "        (\"decomposition\", Pipeline([\n",
    "                (\"c\", CountVectorizer(stop_words=stopwords, min_df=3)),\n",
    "                ('lda', LatentDirichletAllocation(n_components=25)),\n",
    "        ])),\n",
    "        (\"tfidf\", Pipeline([\n",
    "                (\"c\", CountVectorizer(ngram_range=(1,2))),\n",
    "                ('t', TfidfTransformer()),            \n",
    "        ]))\n",
    "    ])),\n",
    "    ('sgd', SGDClassifier(max_iter=5000, tol=1e-4)),\n",
    "])\n",
    "pipe31 = Pipeline([\n",
    "    ('vect', CountVectorizer()),\n",
    "    ('svml', LinearSVC(max_iter=2000)),\n",
    "])\n",
    "pipe4 = Pipeline([\n",
    "    ('vect', CountVectorizer()),\n",
    "    ('tfidf', TfidfTransformer()),\n",
    "    ('svm', SVC(kernel='linear')),\n",
    "])\n",
    "pipe5 = Pipeline([\n",
    "    ('vect', CountVectorizer()),\n",
    "    ('tfidf', TfidfTransformer()),\n",
    "    ('logit', LogisticRegression(max_iter=2000)),\n",
    "])\n",
    "pipe51 = Pipeline([\n",
    "    ('vect', CountVectorizer()),\n",
    "    ('logit', LogisticRegression(max_iter=2000)),\n",
    "])\n",
    "pipe6 = Pipeline([\n",
    "    ('vect', CountVectorizer()),\n",
    "    ('mult_nb', MultinomialNB()),\n",
    "])\n",
    "pipe61 = Pipeline([\n",
    "    ('vect', CountVectorizer()),\n",
    "    ('tfidf', TfidfTransformer()),\n",
    "    ('mult_nb', MultinomialNB()),\n",
    "])\n",
    "pipe7 = Pipeline([\n",
    "    ('vect', CountVectorizer()),\n",
    "    ('compl_nb', ComplementNB()),\n",
    "])\n",
    "pipe71 = Pipeline([\n",
    "    ('vect', CountVectorizer()),\n",
    "    ('tfidf', TfidfTransformer()),\n",
    "    ('compl_nb', ComplementNB()),\n",
    "])\n",
    "pipe8 = Pipeline([\n",
    "    ('vect', CountVectorizer()),\n",
    "    ('bern_nb', BernoulliNB()),\n",
    "])\n",
    "pipe81 = Pipeline([\n",
    "    ('vect', CountVectorizer()),\n",
    "    ('tfidf', TfidfTransformer()),\n",
    "    ('bern_nb', BernoulliNB()),\n",
    "])"
   ]
  },
  {
   "cell_type": "code",
   "execution_count": 186,
   "metadata": {},
   "outputs": [],
   "source": [
    "def run_pipes(pipes, splits=10, test_size=0.2, seed=42):  \n",
    "    res = defaultdict(list)\n",
    "    spliter = ShuffleSplit(n_splits=splits, test_size=test_size, random_state=seed)\n",
    "    for idx_train, idx_test in spliter.split(corpus):\n",
    "        for pipe in pipes:\n",
    "            # name of the model\n",
    "            name = \"-\".join([x[0] for x in pipe.steps])\n",
    "            \n",
    "            # extract datasets\n",
    "            X_train = corpus[idx_train]\n",
    "            X_test = corpus[idx_test]\n",
    "            y_train = targets[idx_train]\n",
    "            y_test = targets[idx_test]\n",
    "            \n",
    "            # Learn\n",
    "            start = time()\n",
    "            pipe.fit(X_train, y_train)\n",
    "            fit_time = time() - start\n",
    "            \n",
    "            # predict and save results\n",
    "            y = pipe.predict(X_test)\n",
    "            res[name].append([\n",
    "                fit_time,\n",
    "                f1_score(y_test, y, average=\"macro\") # \"macro\" average gives better results\n",
    "            ])\n",
    "    return res\n",
    "\n",
    "def print_table(res):\n",
    "    # Compute mean and std\n",
    "    final = {}\n",
    "    for model in res:\n",
    "        arr = np.array(res[model])\n",
    "        final[model] = {\n",
    "            \"time\" : arr[:, 0].mean().round(2),\n",
    "            \"f1_score\": [arr[:,1].mean().round(5), arr[:,1].std().round(5)], #round precision highered from 3 to 5\n",
    "         }\n",
    "\n",
    "    df = pd.DataFrame.from_dict(final, orient=\"index\").round(3)\n",
    "    return df"
   ]
  },
  {
   "cell_type": "code",
   "execution_count": 63,
   "metadata": {},
   "outputs": [
    {
     "data": {
      "text/html": [
       "<div>\n",
       "<style scoped>\n",
       "    .dataframe tbody tr th:only-of-type {\n",
       "        vertical-align: middle;\n",
       "    }\n",
       "\n",
       "    .dataframe tbody tr th {\n",
       "        vertical-align: top;\n",
       "    }\n",
       "\n",
       "    .dataframe thead th {\n",
       "        text-align: right;\n",
       "    }\n",
       "</style>\n",
       "<table border=\"1\" class=\"dataframe\">\n",
       "  <thead>\n",
       "    <tr style=\"text-align: right;\">\n",
       "      <th></th>\n",
       "      <th>time</th>\n",
       "      <th>f1_score</th>\n",
       "    </tr>\n",
       "  </thead>\n",
       "  <tbody>\n",
       "    <tr>\n",
       "      <th>vect-sgd</th>\n",
       "      <td>0.69</td>\n",
       "      <td>[0.8507, 0.00407]</td>\n",
       "    </tr>\n",
       "    <tr>\n",
       "      <th>vect-tfidf-sgd</th>\n",
       "      <td>0.58</td>\n",
       "      <td>[0.85242, 0.00422]</td>\n",
       "    </tr>\n",
       "    <tr>\n",
       "      <th>feat-sgd</th>\n",
       "      <td>43.63</td>\n",
       "      <td>[0.83604, 0.00779]</td>\n",
       "    </tr>\n",
       "    <tr>\n",
       "      <th>vect-svm</th>\n",
       "      <td>45.62</td>\n",
       "      <td>[0.84242, 0.00382]</td>\n",
       "    </tr>\n",
       "    <tr>\n",
       "      <th>vect-tfidf-svm</th>\n",
       "      <td>56.35</td>\n",
       "      <td>[0.84436, 0.0061]</td>\n",
       "    </tr>\n",
       "    <tr>\n",
       "      <th>vect-logit</th>\n",
       "      <td>7.91</td>\n",
       "      <td>[0.84452, 0.00673]</td>\n",
       "    </tr>\n",
       "    <tr>\n",
       "      <th>vect-svml</th>\n",
       "      <td>3.29</td>\n",
       "      <td>[0.84611, 0.00435]</td>\n",
       "    </tr>\n",
       "    <tr>\n",
       "      <th>vect-tfidf-svl</th>\n",
       "      <td>0.87</td>\n",
       "      <td>[0.85405, 0.00735]</td>\n",
       "    </tr>\n",
       "    <tr>\n",
       "      <th>vect-mult_nb</th>\n",
       "      <td>0.36</td>\n",
       "      <td>[0.57033, 0.00957]</td>\n",
       "    </tr>\n",
       "    <tr>\n",
       "      <th>vect-tfidf-mult_nb</th>\n",
       "      <td>0.39</td>\n",
       "      <td>[0.34865, 0.00616]</td>\n",
       "    </tr>\n",
       "    <tr>\n",
       "      <th>vect-compl_nb</th>\n",
       "      <td>0.39</td>\n",
       "      <td>[0.84123, 0.00434]</td>\n",
       "    </tr>\n",
       "    <tr>\n",
       "      <th>vect-tfidf-compl_nb</th>\n",
       "      <td>0.39</td>\n",
       "      <td>[0.83445, 0.00381]</td>\n",
       "    </tr>\n",
       "    <tr>\n",
       "      <th>vect-bern_nb</th>\n",
       "      <td>0.37</td>\n",
       "      <td>[0.39469, 0.00914]</td>\n",
       "    </tr>\n",
       "    <tr>\n",
       "      <th>vect-tfidf-bern_nb</th>\n",
       "      <td>0.45</td>\n",
       "      <td>[0.39469, 0.00914]</td>\n",
       "    </tr>\n",
       "  </tbody>\n",
       "</table>\n",
       "</div>"
      ],
      "text/plain": [
       "                      time            f1_score\n",
       "vect-sgd              0.69   [0.8507, 0.00407]\n",
       "vect-tfidf-sgd        0.58  [0.85242, 0.00422]\n",
       "feat-sgd             43.63  [0.83604, 0.00779]\n",
       "vect-svm             45.62  [0.84242, 0.00382]\n",
       "vect-tfidf-svm       56.35   [0.84436, 0.0061]\n",
       "vect-logit            7.91  [0.84452, 0.00673]\n",
       "vect-svml             3.29  [0.84611, 0.00435]\n",
       "vect-tfidf-svl        0.87  [0.85405, 0.00735]\n",
       "vect-mult_nb          0.36  [0.57033, 0.00957]\n",
       "vect-tfidf-mult_nb    0.39  [0.34865, 0.00616]\n",
       "vect-compl_nb         0.39  [0.84123, 0.00434]\n",
       "vect-tfidf-compl_nb   0.39  [0.83445, 0.00381]\n",
       "vect-bern_nb          0.37  [0.39469, 0.00914]\n",
       "vect-tfidf-bern_nb    0.45  [0.39469, 0.00914]"
      ]
     },
     "execution_count": 63,
     "metadata": {},
     "output_type": "execute_result"
    }
   ],
   "source": [
    "res = run_pipes([pipe0, pipe2, pipe30, pipe1, pipe4, pipe51, pipe31, pipe3, pipe6, pipe61, pipe7, pipe71, pipe8, pipe81], splits=5)\n",
    "print_table(res)"
   ]
  },
  {
   "cell_type": "markdown",
   "metadata": {},
   "source": [
    "_________________________________________________\n",
    "### Best F1-SCORE in bold > 84% and better compute times\n",
    "_________________________________________________\n",
    "\n",
    "* **SGD** with TFIDF : **85,23%** with a standard deviation at **0,47%** - Iteration time **0.50s**\n",
    "* **SVM with linear kernel** with TFIDF : **84,24%** with a standard deviation at **0,38%** - Iteration time **42,60s**\n",
    "* **SVMl** : **84,61** std **0,43%** - Iteration time **3,03s**\n",
    "* **Logit Reg** : **84,45%** std **0,67%** - Iteration time **7,70s**\n",
    "* **ComplementNB** : **84,12%** std **0,43%** - Iteration time **0,35s**\n"
   ]
  },
  {
   "cell_type": "raw",
   "metadata": {},
   "source": [
    "* #### ngram gives less good results\n",
    "* #### maybe the global results showing a miss in (better) data \"preparation\" explaining the bad SVM results?"
   ]
  },
  {
   "cell_type": "markdown",
   "metadata": {},
   "source": [
    "Vous devrez travailler dans un premier temps avec le jeu de données issue de Kaggle pour réaliser vos apprentissage et l'évaluation de vos modèles.\n",
    "\n",
    "Dans l'objectif d'enrichir notre prédictions nous souhaitons augmenter notre jeux de donneés. Vous devrez donc travailler dans un deuxième temps avec le jeux de données fournie, issue de data.world afin de :\n",
    "\n",
    "comparer d'une part si les résultats de classification sur votre premier jeux de données sont similaire avec le second. Commentez.\n",
    "Combiner les deux jeux données pour tenter d'améliorer vos résultats de prédiction.\n",
    "Prédire les nouvelles émotions présente dans ce jeux de données sur les message du premier, et observer si les résultats sont pertinent.\n",
    "Vous devrez ensuite présenter vos résultats sous la forme d'un dashboard muli-pages Dash. La première page du Dashboard sera dédiée à l'analyse et au traitement des données. Vous pourrez par exemple présenter les données \"brut\" sous la forme d'un tableau puis les données pré-traitées dans le même tableau avec un bouton ou menu déroulant permettant de passer d'un type de données à un autre (n'afficher qu'un échantillon des résultats, on dans une fenetre \"scrollable\"). Sur cette première page de dashboard seront accessibles vos graphiques ayant trait à votre première analyse de données (histogramme, bubble chart, scatterplot etc), notamment\n",
    "\n",
    "l'histogramme représentant la fréquence d’apparition des mots (commentez)\n",
    "l'histogramme des émotions (commentez)\n",
    "Une deuxième page du Dashboard sera dédiée aux résultats issues des classifications . Il vous est demandé de comparer les résultats d'au moins 5 classifiers qu présenterai dans un tableau permettant de visualiser vos mesures. Sur cette page de dashboard pourra se trouver par exemple, des courbes de rappel de précision (permette de tracer la précision et le rappel pour différents seuils de probabilité), un rapport de classification (un rapport de classification visuel qui affiche la precision, le recall, le f1-score, support, ou encore une matrice de confusion ou encore une graphique permettant de visualiser les mots les plus représentatif associé à chaque émotions.\n",
    "\n",
    "Héberger le dashboard sur le cloud de visualisation de données Héroku (https://www.heroku.com/)\n",
    "\n",
    "Vos travaux devront être “poussés” sur Github au plus tard le Jeudi 17 Décembre à 17h30 (le lien sera accessible via simplonline). Les rendus tardifs ne seront pas pris en compte et les compétences ne seront donc pas validées !"
   ]
  },
  {
   "cell_type": "markdown",
   "metadata": {},
   "source": [
    "# Data-world dataset\n",
    "\n",
    "* this dataset has some (garbage) data that lowered results vs Kaggle dataset"
   ]
  },
  {
   "cell_type": "code",
   "execution_count": 190,
   "metadata": {},
   "outputs": [],
   "source": [
    "df2 = pd.read_csv(\"datasets/text_emotion.csv\")"
   ]
  },
  {
   "cell_type": "code",
   "execution_count": 191,
   "metadata": {
    "scrolled": true
   },
   "outputs": [
    {
     "name": "stdout",
     "output_type": "stream",
     "text": [
      "----------------------------\n",
      "First lines of the dataframe\n",
      "----------------------------\n"
     ]
    },
    {
     "data": {
      "text/html": [
       "<div>\n",
       "<style scoped>\n",
       "    .dataframe tbody tr th:only-of-type {\n",
       "        vertical-align: middle;\n",
       "    }\n",
       "\n",
       "    .dataframe tbody tr th {\n",
       "        vertical-align: top;\n",
       "    }\n",
       "\n",
       "    .dataframe thead th {\n",
       "        text-align: right;\n",
       "    }\n",
       "</style>\n",
       "<table border=\"1\" class=\"dataframe\">\n",
       "  <thead>\n",
       "    <tr style=\"text-align: right;\">\n",
       "      <th></th>\n",
       "      <th>tweet_id</th>\n",
       "      <th>sentiment</th>\n",
       "      <th>author</th>\n",
       "      <th>content</th>\n",
       "    </tr>\n",
       "  </thead>\n",
       "  <tbody>\n",
       "    <tr>\n",
       "      <th>0</th>\n",
       "      <td>1956967341</td>\n",
       "      <td>empty</td>\n",
       "      <td>xoshayzers</td>\n",
       "      <td>@tiffanylue i know  i was listenin to bad habi...</td>\n",
       "    </tr>\n",
       "    <tr>\n",
       "      <th>1</th>\n",
       "      <td>1956967666</td>\n",
       "      <td>sadness</td>\n",
       "      <td>wannamama</td>\n",
       "      <td>Layin n bed with a headache  ughhhh...waitin o...</td>\n",
       "    </tr>\n",
       "    <tr>\n",
       "      <th>2</th>\n",
       "      <td>1956967696</td>\n",
       "      <td>sadness</td>\n",
       "      <td>coolfunky</td>\n",
       "      <td>Funeral ceremony...gloomy friday...</td>\n",
       "    </tr>\n",
       "    <tr>\n",
       "      <th>3</th>\n",
       "      <td>1956967789</td>\n",
       "      <td>enthusiasm</td>\n",
       "      <td>czareaquino</td>\n",
       "      <td>wants to hang out with friends SOON!</td>\n",
       "    </tr>\n",
       "    <tr>\n",
       "      <th>4</th>\n",
       "      <td>1956968416</td>\n",
       "      <td>neutral</td>\n",
       "      <td>xkilljoyx</td>\n",
       "      <td>@dannycastillo We want to trade with someone w...</td>\n",
       "    </tr>\n",
       "  </tbody>\n",
       "</table>\n",
       "</div>"
      ],
      "text/plain": [
       "     tweet_id   sentiment       author  \\\n",
       "0  1956967341       empty   xoshayzers   \n",
       "1  1956967666     sadness    wannamama   \n",
       "2  1956967696     sadness    coolfunky   \n",
       "3  1956967789  enthusiasm  czareaquino   \n",
       "4  1956968416     neutral    xkilljoyx   \n",
       "\n",
       "                                             content  \n",
       "0  @tiffanylue i know  i was listenin to bad habi...  \n",
       "1  Layin n bed with a headache  ughhhh...waitin o...  \n",
       "2                Funeral ceremony...gloomy friday...  \n",
       "3               wants to hang out with friends SOON!  \n",
       "4  @dannycastillo We want to trade with someone w...  "
      ]
     },
     "execution_count": 191,
     "metadata": {},
     "output_type": "execute_result"
    }
   ],
   "source": [
    "print(\"----------------------------\")\n",
    "print(\"First lines of the dataframe\")\n",
    "print(\"----------------------------\")\n",
    "df2.head()"
   ]
  },
  {
   "cell_type": "code",
   "execution_count": 192,
   "metadata": {
    "scrolled": false
   },
   "outputs": [
    {
     "name": "stdout",
     "output_type": "stream",
     "text": [
      "Dimension : (40000, 4) \n",
      "-----------\n",
      "\n",
      "Datas format :\n",
      "--------------\n",
      " tweet_id      int64\n",
      "sentiment    object\n",
      "author       object\n",
      "content      object\n",
      "dtype: object\n",
      "\n",
      "# of empty cells :\n",
      "------------------\n",
      " tweet_id     0\n",
      "sentiment    0\n",
      "author       0\n",
      "content      0\n",
      "dtype: int64\n",
      "\n",
      "Values of the sentiment column :\n",
      "--------------------------------\n",
      " ['empty' 'sadness' 'enthusiasm' 'neutral' 'worry' 'surprise' 'love' 'fun'\n",
      " 'hate' 'happiness' 'boredom' 'relief' 'anger']\n",
      "\n",
      "Sentiment's word frequency in the df2 :\n",
      "---------------------------------------\n",
      " sentiment\n",
      "anger          110\n",
      "boredom        179\n",
      "enthusiasm     759\n",
      "empty          827\n",
      "hate          1323\n",
      "relief        1526\n",
      "fun           1776\n",
      "surprise      2187\n",
      "love          3842\n",
      "sadness       5165\n",
      "happiness     5209\n",
      "worry         8459\n",
      "neutral       8638\n",
      "dtype: int64\n"
     ]
    }
   ],
   "source": [
    "print(\"Dimension :\", df2.shape, \"\\n-----------\")\n",
    "print(\"\\nDatas format :\\n--------------\\n\", df2.dtypes)\n",
    "print(\"\\n# of empty cells :\\n------------------\\n\", df2.isnull().sum())\n",
    "print(\"\\nValues of the sentiment column :\\n--------------------------------\\n\", df2.sentiment.unique())\n",
    "\n",
    "df_author = df2.groupby(['sentiment']).size().sort_values()\n",
    "print(\"\\nSentiment's word frequency in the df2 :\\n---------------------------------------\\n\", df_author)"
   ]
  },
  {
   "cell_type": "markdown",
   "metadata": {},
   "source": [
    "* ### This dataset is slightly different from the first one\n",
    "* ### We need to clean datas removing 'tweet-id' and 'author'\n",
    "* ### Also, I make the choice to remove 'empty' & 'neutral'"
   ]
  },
  {
   "cell_type": "code",
   "execution_count": 174,
   "metadata": {},
   "outputs": [
    {
     "data": {
      "text/plain": [
       "(40000, 2)"
      ]
     },
     "execution_count": 174,
     "metadata": {},
     "output_type": "execute_result"
    }
   ],
   "source": [
    "df2 = df2.drop(['tweet_id', 'author'], axis = 1)\n",
    "df2.shape"
   ]
  },
  {
   "cell_type": "code",
   "execution_count": 150,
   "metadata": {
    "scrolled": true
   },
   "outputs": [
    {
     "name": "stdout",
     "output_type": "stream",
     "text": [
      "----------------------------\n",
      "First lines of the dataframe\n",
      "----------------------------\n"
     ]
    },
    {
     "data": {
      "text/html": [
       "<div>\n",
       "<style scoped>\n",
       "    .dataframe tbody tr th:only-of-type {\n",
       "        vertical-align: middle;\n",
       "    }\n",
       "\n",
       "    .dataframe tbody tr th {\n",
       "        vertical-align: top;\n",
       "    }\n",
       "\n",
       "    .dataframe thead th {\n",
       "        text-align: right;\n",
       "    }\n",
       "</style>\n",
       "<table border=\"1\" class=\"dataframe\">\n",
       "  <thead>\n",
       "    <tr style=\"text-align: right;\">\n",
       "      <th></th>\n",
       "      <th>sentiment</th>\n",
       "      <th>content</th>\n",
       "    </tr>\n",
       "  </thead>\n",
       "  <tbody>\n",
       "    <tr>\n",
       "      <th>0</th>\n",
       "      <td>empty</td>\n",
       "      <td>@tiffanylue i know  i was listenin to bad habi...</td>\n",
       "    </tr>\n",
       "    <tr>\n",
       "      <th>1</th>\n",
       "      <td>sadness</td>\n",
       "      <td>Layin n bed with a headache  ughhhh...waitin o...</td>\n",
       "    </tr>\n",
       "    <tr>\n",
       "      <th>2</th>\n",
       "      <td>sadness</td>\n",
       "      <td>Funeral ceremony...gloomy friday...</td>\n",
       "    </tr>\n",
       "    <tr>\n",
       "      <th>3</th>\n",
       "      <td>enthusiasm</td>\n",
       "      <td>wants to hang out with friends SOON!</td>\n",
       "    </tr>\n",
       "    <tr>\n",
       "      <th>4</th>\n",
       "      <td>neutral</td>\n",
       "      <td>@dannycastillo We want to trade with someone w...</td>\n",
       "    </tr>\n",
       "  </tbody>\n",
       "</table>\n",
       "</div>"
      ],
      "text/plain": [
       "    sentiment                                            content\n",
       "0       empty  @tiffanylue i know  i was listenin to bad habi...\n",
       "1     sadness  Layin n bed with a headache  ughhhh...waitin o...\n",
       "2     sadness                Funeral ceremony...gloomy friday...\n",
       "3  enthusiasm               wants to hang out with friends SOON!\n",
       "4     neutral  @dannycastillo We want to trade with someone w..."
      ]
     },
     "execution_count": 150,
     "metadata": {},
     "output_type": "execute_result"
    }
   ],
   "source": [
    "print(\"----------------------------\")\n",
    "print(\"First lines of the dataframe\")\n",
    "print(\"----------------------------\")\n",
    "df2.head()"
   ]
  },
  {
   "cell_type": "code",
   "execution_count": 177,
   "metadata": {},
   "outputs": [
    {
     "data": {
      "text/html": [
       "<div>\n",
       "<style scoped>\n",
       "    .dataframe tbody tr th:only-of-type {\n",
       "        vertical-align: middle;\n",
       "    }\n",
       "\n",
       "    .dataframe tbody tr th {\n",
       "        vertical-align: top;\n",
       "    }\n",
       "\n",
       "    .dataframe thead th {\n",
       "        text-align: right;\n",
       "    }\n",
       "</style>\n",
       "<table border=\"1\" class=\"dataframe\">\n",
       "  <thead>\n",
       "    <tr style=\"text-align: right;\">\n",
       "      <th></th>\n",
       "      <th>Emotion</th>\n",
       "      <th>Text</th>\n",
       "    </tr>\n",
       "  </thead>\n",
       "  <tbody>\n",
       "    <tr>\n",
       "      <th>0</th>\n",
       "      <td>empty</td>\n",
       "      <td>@tiffanylue i know  i was listenin to bad habi...</td>\n",
       "    </tr>\n",
       "    <tr>\n",
       "      <th>1</th>\n",
       "      <td>sadness</td>\n",
       "      <td>Layin n bed with a headache  ughhhh...waitin o...</td>\n",
       "    </tr>\n",
       "    <tr>\n",
       "      <th>2</th>\n",
       "      <td>sadness</td>\n",
       "      <td>Funeral ceremony...gloomy friday...</td>\n",
       "    </tr>\n",
       "    <tr>\n",
       "      <th>3</th>\n",
       "      <td>enthusiasm</td>\n",
       "      <td>wants to hang out with friends SOON!</td>\n",
       "    </tr>\n",
       "    <tr>\n",
       "      <th>4</th>\n",
       "      <td>neutral</td>\n",
       "      <td>@dannycastillo We want to trade with someone w...</td>\n",
       "    </tr>\n",
       "  </tbody>\n",
       "</table>\n",
       "</div>"
      ],
      "text/plain": [
       "      Emotion                                               Text\n",
       "0       empty  @tiffanylue i know  i was listenin to bad habi...\n",
       "1     sadness  Layin n bed with a headache  ughhhh...waitin o...\n",
       "2     sadness                Funeral ceremony...gloomy friday...\n",
       "3  enthusiasm               wants to hang out with friends SOON!\n",
       "4     neutral  @dannycastillo We want to trade with someone w..."
      ]
     },
     "execution_count": 177,
     "metadata": {},
     "output_type": "execute_result"
    }
   ],
   "source": [
    "df2.rename(columns={\"content\": \"Text\", \"sentiment\": \"Emotion\"}, inplace=True)\n",
    "df2.head()"
   ]
  },
  {
   "cell_type": "code",
   "execution_count": 152,
   "metadata": {},
   "outputs": [],
   "source": [
    "targets = df2[\"Emotion\"]\n",
    "corpus = df2[\"Text\"]"
   ]
  },
  {
   "cell_type": "code",
   "execution_count": 153,
   "metadata": {},
   "outputs": [
    {
     "name": "stdout",
     "output_type": "stream",
     "text": [
      "\n",
      "Vocabulary size : 48070\n",
      "-----------------\n",
      "\n",
      "Plotting word distrib of the second dataset (data world):\n",
      "---------------------------------------------------------\n"
     ]
    },
    {
     "data": {
      "image/png": "[encoded data removed]",
      "text/plain": [
       "<Figure size 1440x576 with 1 Axes>"
      ]
     },
     "metadata": {
      "needs_background": "light"
     },
     "output_type": "display_data"
    }
   ],
   "source": [
    "# Vobabulary analysis\n",
    "stopwords = nltk.corpus.stopwords.words('english')\n",
    "vec = CountVectorizer(stop_words=stopwords)\n",
    "X = vec.fit_transform(corpus)\n",
    "words = vec.get_feature_names()\n",
    "\n",
    "print(\"\\nVocabulary size : %d\\n-----------------\\n\" % len(words) )\n",
    "print(\"Plotting word distrib of the second dataset (data world):\\n---------------------------------------------------------\")\n",
    "\n",
    "# Compute rank\n",
    "wsum = np.array(X.sum(0))[0]\n",
    "ix = wsum.argsort()[::-1]\n",
    "wrank = wsum[ix] \n",
    "labels = [words[i] for i in ix]\n",
    "# Sub-sample the data to plot.\n",
    "# take the 20 first + the rest sample with the given step \n",
    "def subsample(x, step=15000):\n",
    "    return np.hstack((x[:30], x[10::step]))\n",
    "\n",
    "\n",
    "plt.figure(figsize=(20,8))\n",
    "freq = subsample(wrank)\n",
    "r = np.arange(len(freq))\n",
    "plt.bar(r, freq, width=0.7)\n",
    "plt.xticks(r, subsample(labels), rotation=55)\n",
    "plt.xlabel('Word rank')\n",
    "plt.ylabel('Word freq')\n",
    "plt.title(\"Words ordered by rank\");"
   ]
  },
  {
   "cell_type": "code",
   "execution_count": 133,
   "metadata": {},
   "outputs": [
    {
     "name": "stderr",
     "output_type": "stream",
     "text": [
      "/home/dan/anaconda3/envs/dataviz/lib/python3.8/site-packages/sklearn/svm/_base.py:976: ConvergenceWarning: Liblinear failed to converge, increase the number of iterations.\n",
      "  warnings.warn(\"Liblinear failed to converge, increase \"\n",
      "/home/dan/anaconda3/envs/dataviz/lib/python3.8/site-packages/sklearn/svm/_base.py:976: ConvergenceWarning: Liblinear failed to converge, increase the number of iterations.\n",
      "  warnings.warn(\"Liblinear failed to converge, increase \"\n"
     ]
    },
    {
     "data": {
      "text/html": [
       "<div>\n",
       "<style scoped>\n",
       "    .dataframe tbody tr th:only-of-type {\n",
       "        vertical-align: middle;\n",
       "    }\n",
       "\n",
       "    .dataframe tbody tr th {\n",
       "        vertical-align: top;\n",
       "    }\n",
       "\n",
       "    .dataframe thead th {\n",
       "        text-align: right;\n",
       "    }\n",
       "</style>\n",
       "<table border=\"1\" class=\"dataframe\">\n",
       "  <thead>\n",
       "    <tr style=\"text-align: right;\">\n",
       "      <th></th>\n",
       "      <th>time</th>\n",
       "      <th>f1_score</th>\n",
       "    </tr>\n",
       "  </thead>\n",
       "  <tbody>\n",
       "    <tr>\n",
       "      <th>vect-sgd</th>\n",
       "      <td>1.91</td>\n",
       "      <td>[0.17694, 0.00322]</td>\n",
       "    </tr>\n",
       "    <tr>\n",
       "      <th>vect-tfidf-sgd</th>\n",
       "      <td>1.18</td>\n",
       "      <td>[0.17667, 0.00293]</td>\n",
       "    </tr>\n",
       "    <tr>\n",
       "      <th>feat-sgd</th>\n",
       "      <td>67.20</td>\n",
       "      <td>[0.18068, 0.00498]</td>\n",
       "    </tr>\n",
       "    <tr>\n",
       "      <th>vect-svm</th>\n",
       "      <td>490.58</td>\n",
       "      <td>[0.1838, 0.00157]</td>\n",
       "    </tr>\n",
       "    <tr>\n",
       "      <th>vect-tfidf-svm</th>\n",
       "      <td>258.78</td>\n",
       "      <td>[0.17744, 0.00375]</td>\n",
       "    </tr>\n",
       "    <tr>\n",
       "      <th>vect-logit</th>\n",
       "      <td>45.11</td>\n",
       "      <td>[0.17973, 0.00296]</td>\n",
       "    </tr>\n",
       "    <tr>\n",
       "      <th>vect-svml</th>\n",
       "      <td>35.10</td>\n",
       "      <td>[0.16542, 0.00368]</td>\n",
       "    </tr>\n",
       "    <tr>\n",
       "      <th>vect-tfidf-svl</th>\n",
       "      <td>2.98</td>\n",
       "      <td>[0.17417, 0.00252]</td>\n",
       "    </tr>\n",
       "    <tr>\n",
       "      <th>vect-mult_nb</th>\n",
       "      <td>0.62</td>\n",
       "      <td>[0.11959, 0.00159]</td>\n",
       "    </tr>\n",
       "    <tr>\n",
       "      <th>vect-tfidf-mult_nb</th>\n",
       "      <td>0.65</td>\n",
       "      <td>[0.08481, 0.00125]</td>\n",
       "    </tr>\n",
       "    <tr>\n",
       "      <th>vect-compl_nb</th>\n",
       "      <td>0.65</td>\n",
       "      <td>[0.15538, 0.00489]</td>\n",
       "    </tr>\n",
       "    <tr>\n",
       "      <th>vect-tfidf-compl_nb</th>\n",
       "      <td>0.69</td>\n",
       "      <td>[0.14719, 0.00366]</td>\n",
       "    </tr>\n",
       "    <tr>\n",
       "      <th>vect-bern_nb</th>\n",
       "      <td>0.63</td>\n",
       "      <td>[0.08545, 0.00065]</td>\n",
       "    </tr>\n",
       "    <tr>\n",
       "      <th>vect-tfidf-bern_nb</th>\n",
       "      <td>0.65</td>\n",
       "      <td>[0.08545, 0.00065]</td>\n",
       "    </tr>\n",
       "  </tbody>\n",
       "</table>\n",
       "</div>"
      ],
      "text/plain": [
       "                       time            f1_score\n",
       "vect-sgd               1.91  [0.17694, 0.00322]\n",
       "vect-tfidf-sgd         1.18  [0.17667, 0.00293]\n",
       "feat-sgd              67.20  [0.18068, 0.00498]\n",
       "vect-svm             490.58   [0.1838, 0.00157]\n",
       "vect-tfidf-svm       258.78  [0.17744, 0.00375]\n",
       "vect-logit            45.11  [0.17973, 0.00296]\n",
       "vect-svml             35.10  [0.16542, 0.00368]\n",
       "vect-tfidf-svl         2.98  [0.17417, 0.00252]\n",
       "vect-mult_nb           0.62  [0.11959, 0.00159]\n",
       "vect-tfidf-mult_nb     0.65  [0.08481, 0.00125]\n",
       "vect-compl_nb          0.65  [0.15538, 0.00489]\n",
       "vect-tfidf-compl_nb    0.69  [0.14719, 0.00366]\n",
       "vect-bern_nb           0.63  [0.08545, 0.00065]\n",
       "vect-tfidf-bern_nb     0.65  [0.08545, 0.00065]"
      ]
     },
     "execution_count": 133,
     "metadata": {},
     "output_type": "execute_result"
    }
   ],
   "source": [
    "res = run_pipes([pipe0, pipe2, pipe30, pipe1, pipe4, pipe51, pipe31, pipe3, pipe6, pipe61, pipe7, pipe71, pipe8, pipe81], splits=5)\n",
    "print_table(res)"
   ]
  },
  {
   "cell_type": "markdown",
   "metadata": {},
   "source": [
    "* ### Results (<18%) are less good (slow to compute) even if the docs are twice more numerous (>48000)M is a pain\n",
    "### It can be explained by the increase in the number of targets (6=>13)\n",
    "\n",
    "* ### My solution is to group targets in order to have the same complexity as the first dataset (surprise, love, fear,  anger, sadness and happy)        \n",
    "\n",
    "* ### Also, I remove neutral and empty columns in order to get same type of data\n",
    "\n"
   ]
  },
  {
   "cell_type": "code",
   "execution_count": 140,
   "metadata": {},
   "outputs": [],
   "source": [
    "pipe42 = Pipeline([\n",
    "    ('vect', CountVectorizer()),\n",
    "    ('tfidf', TfidfTransformer()),\n",
    "    ('svm', SVC())\n",
    "])"
   ]
  },
  {
   "cell_type": "code",
   "execution_count": 141,
   "metadata": {},
   "outputs": [
    {
     "data": {
      "text/html": [
       "<div>\n",
       "<style scoped>\n",
       "    .dataframe tbody tr th:only-of-type {\n",
       "        vertical-align: middle;\n",
       "    }\n",
       "\n",
       "    .dataframe tbody tr th {\n",
       "        vertical-align: top;\n",
       "    }\n",
       "\n",
       "    .dataframe thead th {\n",
       "        text-align: right;\n",
       "    }\n",
       "</style>\n",
       "<table border=\"1\" class=\"dataframe\">\n",
       "  <thead>\n",
       "    <tr style=\"text-align: right;\">\n",
       "      <th></th>\n",
       "      <th>time</th>\n",
       "      <th>f1_score</th>\n",
       "    </tr>\n",
       "  </thead>\n",
       "  <tbody>\n",
       "    <tr>\n",
       "      <th>vect-tfidf-svm</th>\n",
       "      <td>470.89</td>\n",
       "      <td>[0.16319, 0.00213]</td>\n",
       "    </tr>\n",
       "  </tbody>\n",
       "</table>\n",
       "</div>"
      ],
      "text/plain": [
       "                  time            f1_score\n",
       "vect-tfidf-svm  470.89  [0.16319, 0.00213]"
      ]
     },
     "execution_count": 141,
     "metadata": {},
     "output_type": "execute_result"
    }
   ],
   "source": [
    "res = run_pipes([pipe42], splits=5)\n",
    "print_table(res)"
   ]
  },
  {
   "cell_type": "markdown",
   "metadata": {},
   "source": [
    "### Waiting the SVC results"
   ]
  },
  {
   "cell_type": "code",
   "execution_count": 178,
   "metadata": {},
   "outputs": [
    {
     "data": {
      "text/plain": [
       "(30535, 2)"
      ]
     },
     "execution_count": 178,
     "metadata": {},
     "output_type": "execute_result"
    }
   ],
   "source": [
    "# J'efface les lignes où 'neutral' ou 'empty' apparaissent\n",
    "df2 = df2[(df2.Emotion != \"neutral\")]\n",
    "df2 = df2[(df2.Emotion != \"empty\")]\n",
    "df2.shape"
   ]
  },
  {
   "cell_type": "code",
   "execution_count": 179,
   "metadata": {},
   "outputs": [],
   "source": [
    "# Je fais ma tambouille en renommant les colonnes pour avoir le même type de que le dataset Kaggle \n",
    "df2['Emotion'] = df2['Emotion'].replace(['happiness'], 'happy')\n",
    "df2['Emotion'] = df2['Emotion'].replace(['boredom'], 'sadness')\n",
    "df2['Emotion'] = df2['Emotion'].replace(['enthusiasm'], 'happy')\n",
    "df2['Emotion'] = df2['Emotion'].replace(['hate'], 'anger')\n",
    "df2['Emotion'] = df2['Emotion'].replace(['relief'], 'happy')\n",
    "df2['Emotion'] = df2['Emotion'].replace(['fun'], 'happy')\n",
    "df2['Emotion'] = df2['Emotion'].replace(['worry'], 'fear')"
   ]
  },
  {
   "cell_type": "code",
   "execution_count": 180,
   "metadata": {},
   "outputs": [],
   "source": [
    "# Je crée un df3 le nouveau dataset avec plus de données\n",
    "df3 = df.append(df2[['Text','Emotion']],ignore_index=True)"
   ]
  },
  {
   "cell_type": "code",
   "execution_count": 181,
   "metadata": {},
   "outputs": [
    {
     "data": {
      "text/plain": [
       "array(['sadness', 'anger', 'love', 'surprise', 'fear', 'happy'],\n",
       "      dtype=object)"
      ]
     },
     "execution_count": 181,
     "metadata": {},
     "output_type": "execute_result"
    }
   ],
   "source": [
    "df3['Emotion'].unique()"
   ]
  },
  {
   "cell_type": "code",
   "execution_count": 182,
   "metadata": {},
   "outputs": [
    {
     "data": {
      "text/plain": [
       "(51994, 2)"
      ]
     },
     "execution_count": 182,
     "metadata": {},
     "output_type": "execute_result"
    }
   ],
   "source": [
    "df3.shape"
   ]
  },
  {
   "cell_type": "code",
   "execution_count": 183,
   "metadata": {},
   "outputs": [],
   "source": [
    "targets = df3[\"Emotion\"]\n",
    "corpus = df3[\"Text\"]"
   ]
  },
  {
   "cell_type": "code",
   "execution_count": 184,
   "metadata": {},
   "outputs": [
    {
     "name": "stdout",
     "output_type": "stream",
     "text": [
      "Dimension : (21459, 2) \n",
      "-----------\n",
      "\n",
      "Datas format :\n",
      "--------------\n",
      " Text       object\n",
      "Emotion    object\n",
      "dtype: object\n",
      "\n",
      "# of empty cells :\n",
      "------------------\n",
      " Text       0\n",
      "Emotion    0\n",
      "dtype: int64\n",
      "\n",
      "Values of the emotion column :\n",
      "------------------------------\n",
      " ['sadness' 'anger' 'love' 'surprise' 'fear' 'happy']\n",
      "\n",
      "Emotion's word frequency in the df :\n",
      "------------------------------------\n",
      " Emotion\n",
      "surprise     3066\n",
      "anger        4426\n",
      "love         5483\n",
      "fear        11111\n",
      "sadness     11609\n",
      "happy       16299\n",
      "dtype: int64\n"
     ]
    }
   ],
   "source": [
    "print(\"Dimension :\", df.shape, \"\\n-----------\")\n",
    "print(\"\\nDatas format :\\n--------------\\n\", df.dtypes)\n",
    "print(\"\\n# of empty cells :\\n------------------\\n\", df.isnull().sum())\n",
    "print(\"\\nValues of the emotion column :\\n------------------------------\\n\", df.Emotion.unique())\n",
    "\n",
    "df_author = df3.groupby(['Emotion']).size().sort_values()\n",
    "print(\"\\nEmotion's word frequency in the df :\\n------------------------------------\\n\", df_author)"
   ]
  },
  {
   "cell_type": "code",
   "execution_count": 187,
   "metadata": {},
   "outputs": [],
   "source": [
    "targets = df3[\"Emotion\"]\n",
    "corpus = df3[\"Text\"]"
   ]
  },
  {
   "cell_type": "code",
   "execution_count": 188,
   "metadata": {},
   "outputs": [
    {
     "name": "stdout",
     "output_type": "stream",
     "text": [
      "\n",
      "Vocabulary size : 48681\n",
      "-----------------\n",
      "\n",
      "Plotting words distribution of the mixed dataset (data world):\n",
      "--------------------------------------------------------------\n"
     ]
    },
    {
     "data": {
      "image/png": "[encoded data removed]",
      "text/plain": [
       "<Figure size 1440x576 with 1 Axes>"
      ]
     },
     "metadata": {
      "needs_background": "light"
     },
     "output_type": "display_data"
    }
   ],
   "source": [
    "# Vobabulary analysis\n",
    "stopwords = nltk.corpus.stopwords.words('english')\n",
    "vec = CountVectorizer(stop_words=stopwords)\n",
    "X = vec.fit_transform(corpus)\n",
    "words = vec.get_feature_names()\n",
    "\n",
    "print(\"\\nVocabulary size : %d\\n-----------------\\n\" % len(words) )\n",
    "print(\"Plotting words distribution of the mixed dataset (data world):\\n--------------------------------------------------------------\")\n",
    "\n",
    "# Compute rank\n",
    "wsum = np.array(X.sum(0))[0]\n",
    "ix = wsum.argsort()[::-1]\n",
    "wrank = wsum[ix] \n",
    "labels = [words[i] for i in ix]\n",
    "# Sub-sample the data to plot.\n",
    "# take the 20 first + the rest sample with the given step \n",
    "def subsample(x, step=15000):\n",
    "    return np.hstack((x[:30], x[10::step]))\n",
    "\n",
    "\n",
    "plt.figure(figsize=(20,8))\n",
    "freq = subsample(wrank)\n",
    "r = np.arange(len(freq))\n",
    "plt.bar(r, freq, width=0.7)\n",
    "plt.xticks(r, subsample(labels), rotation=55)\n",
    "plt.xlabel('Word rank')\n",
    "plt.ylabel('Word freq')\n",
    "plt.title(\"Words ordered by rank\");"
   ]
  },
  {
   "cell_type": "code",
   "execution_count": 189,
   "metadata": {},
   "outputs": [
    {
     "data": {
      "text/html": [
       "<div>\n",
       "<style scoped>\n",
       "    .dataframe tbody tr th:only-of-type {\n",
       "        vertical-align: middle;\n",
       "    }\n",
       "\n",
       "    .dataframe tbody tr th {\n",
       "        vertical-align: top;\n",
       "    }\n",
       "\n",
       "    .dataframe thead th {\n",
       "        text-align: right;\n",
       "    }\n",
       "</style>\n",
       "<table border=\"1\" class=\"dataframe\">\n",
       "  <thead>\n",
       "    <tr style=\"text-align: right;\">\n",
       "      <th></th>\n",
       "      <th>time</th>\n",
       "      <th>f1_score</th>\n",
       "    </tr>\n",
       "  </thead>\n",
       "  <tbody>\n",
       "    <tr>\n",
       "      <th>vect-sgd</th>\n",
       "      <td>1.83</td>\n",
       "      <td>[0.56929, 0.00393]</td>\n",
       "    </tr>\n",
       "    <tr>\n",
       "      <th>vect-tfidf-sgd</th>\n",
       "      <td>1.23</td>\n",
       "      <td>[0.55688, 0.00419]</td>\n",
       "    </tr>\n",
       "    <tr>\n",
       "      <th>vect-logit</th>\n",
       "      <td>28.61</td>\n",
       "      <td>[0.56077, 0.00249]</td>\n",
       "    </tr>\n",
       "    <tr>\n",
       "      <th>vect-svml</th>\n",
       "      <td>25.17</td>\n",
       "      <td>[0.5397, 0.00319]</td>\n",
       "    </tr>\n",
       "    <tr>\n",
       "      <th>vect-tfidf-svl</th>\n",
       "      <td>2.49</td>\n",
       "      <td>[0.5606, 0.00252]</td>\n",
       "    </tr>\n",
       "    <tr>\n",
       "      <th>vect-mult_nb</th>\n",
       "      <td>0.83</td>\n",
       "      <td>[0.40474, 0.00232]</td>\n",
       "    </tr>\n",
       "    <tr>\n",
       "      <th>vect-tfidf-mult_nb</th>\n",
       "      <td>0.87</td>\n",
       "      <td>[0.27992, 0.00229]</td>\n",
       "    </tr>\n",
       "    <tr>\n",
       "      <th>vect-compl_nb</th>\n",
       "      <td>0.84</td>\n",
       "      <td>[0.54638, 0.00366]</td>\n",
       "    </tr>\n",
       "    <tr>\n",
       "      <th>vect-tfidf-compl_nb</th>\n",
       "      <td>0.87</td>\n",
       "      <td>[0.53619, 0.00575]</td>\n",
       "    </tr>\n",
       "    <tr>\n",
       "      <th>vect-bern_nb</th>\n",
       "      <td>0.83</td>\n",
       "      <td>[0.30687, 0.00265]</td>\n",
       "    </tr>\n",
       "    <tr>\n",
       "      <th>vect-tfidf-bern_nb</th>\n",
       "      <td>0.88</td>\n",
       "      <td>[0.30687, 0.00265]</td>\n",
       "    </tr>\n",
       "  </tbody>\n",
       "</table>\n",
       "</div>"
      ],
      "text/plain": [
       "                      time            f1_score\n",
       "vect-sgd              1.83  [0.56929, 0.00393]\n",
       "vect-tfidf-sgd        1.23  [0.55688, 0.00419]\n",
       "vect-logit           28.61  [0.56077, 0.00249]\n",
       "vect-svml            25.17   [0.5397, 0.00319]\n",
       "vect-tfidf-svl        2.49   [0.5606, 0.00252]\n",
       "vect-mult_nb          0.83  [0.40474, 0.00232]\n",
       "vect-tfidf-mult_nb    0.87  [0.27992, 0.00229]\n",
       "vect-compl_nb         0.84  [0.54638, 0.00366]\n",
       "vect-tfidf-compl_nb   0.87  [0.53619, 0.00575]\n",
       "vect-bern_nb          0.83  [0.30687, 0.00265]\n",
       "vect-tfidf-bern_nb    0.88  [0.30687, 0.00265]"
      ]
     },
     "execution_count": 189,
     "metadata": {},
     "output_type": "execute_result"
    }
   ],
   "source": [
    "#res = run_pipes([pipe0, pipe2, pipe30, pipe1, pipe4, pipe51, pipe31, pipe3, pipe6, pipe61, pipe7, pipe71, pipe8, pipe81], splits=5)\n",
    "res = run_pipes([pipe0, pipe2, pipe51, pipe31, pipe3, pipe6, pipe61, pipe7, pipe71, pipe8, pipe81], splits=5)\n",
    "print_table(res)"
   ]
  },
  {
   "cell_type": "markdown",
   "metadata": {},
   "source": [
    "* ### Results gives better results than using 13 targets but they have difficulties to exceed 57%..."
   ]
  },
  {
   "cell_type": "code",
   "execution_count": null,
   "metadata": {},
   "outputs": [],
   "source": []
  }
 ],
 "metadata": {
  "kernelspec": {
   "display_name": "dataviz",
   "language": "python",
   "name": "dataviz"
  },
  "language_info": {
   "codemirror_mode": {
    "name": "ipython",
    "version": 3
   },
   "file_extension": ".py",
   "mimetype": "text/x-python",
   "name": "python",
   "nbconvert_exporter": "python",
   "pygments_lexer": "ipython3",
   "version": "3.8.5"
  }
 },
 "nbformat": 4,
 "nbformat_minor": 4
}
